{
 "cells": [
  {
   "cell_type": "code",
   "execution_count": 3,
   "metadata": {},
   "outputs": [],
   "source": [
    "from bs4 import BeautifulSoup as soup\n",
    "from urllib.request import urlopen as uReq\n",
    "import pandas as pd "
   ]
  },
  {
   "cell_type": "code",
   "execution_count": 18,
   "metadata": {},
   "outputs": [],
   "source": [
    "my_url = \"https://wiki.shadowrun-jdr.fr/index.php/ShadowWiki\"\n",
    "\n",
    "url_2_test = \"https://wiki.shadowrun-jdr.fr/index.php/Histoire_de_la_Magie\""
   ]
  },
  {
   "cell_type": "code",
   "execution_count": 4,
   "metadata": {},
   "outputs": [],
   "source": [
    "client = uReq(my_url)\n",
    "\n",
    "page_html = client.read()\n",
    "client.close()\n",
    "\n",
    "page_soup = soup(page_html)"
   ]
  },
  {
   "cell_type": "code",
   "execution_count": 14,
   "metadata": {},
   "outputs": [],
   "source": [
    "tab = page_soup.find_all('td')\n",
    "\n",
    "titres = []\n",
    "liens = []"
   ]
  },
  {
   "cell_type": "code",
   "execution_count": 15,
   "metadata": {},
   "outputs": [
    {
     "name": "stdout",
     "output_type": "stream",
     "text": [
      "<class 'bs4.element.ResultSet'>\n"
     ]
    },
    {
     "data": {
      "text/plain": [
       "[<td style=\"border:1px solid #DDDDDD;padding:7px\" valign=\"top\" width=\"50%\"><b><a href=\"/index.php/Cat%C3%A9gorie:Histoire\" title=\"Catégorie:Histoire\">Histoire du Sixième Monde</a></b>\n",
       " <ul><li><a href=\"/index.php/Historique\" title=\"Historique\">Chronologie</a>\n",
       " <ul><li>Chronologie par décennie (<a href=\"/index.php/1990s\" title=\"1990s\">1990s</a> <a href=\"/index.php/2000s\" title=\"2000s\">2000s</a> <a href=\"/index.php/2010s\" title=\"2010s\">2010s</a> <a href=\"/index.php/2020s\" title=\"2020s\">2020s</a> <a href=\"/index.php/2030s\" title=\"2030s\">2030s</a> <a href=\"/index.php/2040s\" title=\"2040s\">2040s</a> <a href=\"/index.php/2050s\" title=\"2050s\">2050s</a> <a href=\"/index.php/2060s\" title=\"2060s\">2060s</a> <a href=\"/index.php/2070s\" title=\"2070s\">2070s</a> <a href=\"/index.php/2080s\" title=\"2080s\">2080s</a>)</li>\n",
       " <li><a href=\"/index.php/Cat%C3%A9gorie:Ann%C3%A9e\" title=\"Catégorie:Année\">Chronologie par année</a></li></ul></li>\n",
       " <li>Histoire thématique\n",
       " <ul><li><a href=\"/index.php/Histoire_de_l%27armement\" title=\"Histoire de l'armement\">Histoire de l'armement</a></li>\n",
       " <li><a href=\"/index.php/Histoire_de_la_Magie\" title=\"Histoire de la Magie\">Histoire de la Magie</a></li>\n",
       " <li><a href=\"/index.php/Histoire_de_la_Matrice\" title=\"Histoire de la Matrice\">Histoire de la Matrice</a></li>\n",
       " <li><a href=\"/index.php/Histoire_de_la_M%C3%A9tahumanit%C3%A9\" title=\"Histoire de la Métahumanité\">Histoire de la Métahumanité</a></li>\n",
       " <li><a href=\"/index.php/Histoire_des_corporations\" title=\"Histoire des corporations\">Histoire des corporations</a></li>\n",
       " <li><a href=\"/index.php/Histoire_des_loisirs\" title=\"Histoire des loisirs\">Histoire des loisirs</a></li></ul></li></ul>\n",
       " </td>,\n",
       " <td style=\"border:1px solid #DDDDDD;padding:7px\" valign=\"top\" width=\"50%\"><b> <a href=\"/index.php/G%C3%A9opolitique\" title=\"Géopolitique\">Géopolitique</a> </b>\n",
       " <ul><li><a href=\"/index.php/Afrique\" title=\"Afrique\">Afrique</a></li>\n",
       " <li><a href=\"/index.php/Am%C3%A9rique_du_Nord\" title=\"Amérique du Nord\">Amérique du Nord</a></li>\n",
       " <li><a href=\"/index.php/Am%C3%A9rique_du_Sud\" title=\"Amérique du Sud\">Amérique du Sud</a></li>\n",
       " <li><a href=\"/index.php/Antarctique\" title=\"Antarctique\">Antarctique</a></li>\n",
       " <li><a href=\"/index.php/Asie\" title=\"Asie\">Asie</a></li>\n",
       " <li><a href=\"/index.php/Espace\" title=\"Espace\">Espace</a></li>\n",
       " <li><a href=\"/index.php/Europe\" title=\"Europe\">Europe</a></li>\n",
       " <li><a href=\"/index.php/Moyen-Orient\" title=\"Moyen-Orient\">Moyen-Orient</a></li>\n",
       " <li><a class=\"mw-redirect\" href=\"/index.php/Oc%C3%A9ans\" title=\"Océans\">Océans</a></li>\n",
       " <li><a href=\"/index.php/Pacifique_Sud\" title=\"Pacifique Sud\">Pacifique Sud</a></li>\n",
       " <li><a href=\"/index.php/Cat%C3%A9gorie:Pays\" title=\"Catégorie:Pays\">Catégorie:Pays</a></li>\n",
       " <li><a href=\"/index.php/Lieux_Matriciels\" title=\"Lieux Matriciels\">Matrice</a></li>\n",
       " <li><a href=\"/index.php/Cartes_g%C3%A9opolitiques_anim%C3%A9es\" title=\"Cartes géopolitiques animées\">Cartes géopolitiques animées</a></li></ul>\n",
       " </td>,\n",
       " <td style=\"border:1px solid #DDDDDD;padding:7px\" valign=\"top\" width=\"50%\"><b><a href=\"/index.php/Organisations\" title=\"Organisations\">Organisations</a></b>\n",
       " <ul><li><a href=\"/index.php/Organisations#Criminelles\" title=\"Organisations\">Criminelles</a></li>\n",
       " <li><a href=\"/index.php/Organisations#Para-Militaires\" title=\"Organisations\">Para-Militaires</a></li>\n",
       " <li><a href=\"/index.php/Organisations#Magiques\" title=\"Organisations\">Magiques</a></li>\n",
       " <li><a href=\"/index.php/Organisations#Politiques\" title=\"Organisations\">Politiques</a></li>\n",
       " <li><a href=\"/index.php/Organisations#Économiques\" title=\"Organisations\">Économiques </a></li>\n",
       " <li><a href=\"/index.php/Organisations#Religieuses\" title=\"Organisations\">Religieuses</a></li>\n",
       " <li><a href=\"/index.php/Organisations#ONG\" title=\"Organisations\">ONG</a></li>\n",
       " <li><a href=\"/index.php/Organisations#Gouvernementales\" title=\"Organisations\">Gouvernementales</a></li>\n",
       " <li><a href=\"/index.php/Organisations#Écologistes\" title=\"Organisations\">Écologistes</a></li>\n",
       " <li><a href=\"/index.php/Organisations#Scientifiques\" title=\"Organisations\">Scientifiques</a></li>\n",
       " <li><a href=\"/index.php/Organisations#Divertissement\" title=\"Organisations\">Divertissement</a></li>\n",
       " <li><a href=\"/index.php/Cat%C3%A9gorie:Organisation\" title=\"Catégorie:Organisation\">Catégorie:Organisation</a></li></ul>\n",
       " </td>,\n",
       " <td style=\"border:1px solid #DDDDDD;padding:7px\" valign=\"top\" width=\"50%\"><b><a href=\"/index.php/Cat%C3%A9gorie:Corporation\" title=\"Catégorie:Corporation\">Corporations</a> </b>\n",
       " <ul><li><a class=\"mw-redirect\" href=\"/index.php/Corporations\" title=\"Corporations\">Généralités</a></li>\n",
       " <li><a href=\"/index.php/Histoire_des_corporations\" title=\"Histoire des corporations\">Histoire</a></li>\n",
       " <li>La <a class=\"mw-redirect\" href=\"/index.php/Cour_Corporatiste\" title=\"Cour Corporatiste\">Cour Corporatiste</a></li>\n",
       " <li><a class=\"mw-redirect\" href=\"/index.php/Corporations#Mégacorporations_AAA\" title=\"Corporations\">Mégacorporations AAA</a></li>\n",
       " <li><a class=\"mw-redirect\" href=\"/index.php/Corporations#Mégacorporations_AA\" title=\"Corporations\">Mégacorporations AA</a></li>\n",
       " <li><a class=\"mw-redirect\" href=\"/index.php/Corporations#Corporations_A\" title=\"Corporations\">Corporations A</a></li>\n",
       " <li><a href=\"/index.php/Les_plus_grosses_fortunes\" title=\"Les plus grosses fortunes\">Les plus grosses fortunes</a></li>\n",
       " <li>La vie d'un <a href=\"/index.php/Employ%C3%A9_corpo\" title=\"Employé corpo\">Employé corpo</a></li>\n",
       " <li><a href=\"/index.php/Terminologie_Corporatiste\" title=\"Terminologie Corporatiste\">Terminologie</a></li></ul>\n",
       " </td>,\n",
       " <td style=\"border:1px solid #DDDDDD;padding:7px\" valign=\"top\" width=\"50%\"><b> <a href=\"/index.php/Cat%C3%A9gorie:Personnalit%C3%A9\" title=\"Catégorie:Personnalité\">Personnalités</a> </b>\n",
       " <ul><li><a href=\"/index.php/Cat%C3%A9gorie:Personnalit%C3%A9_%C3%A9conomique\" title=\"Catégorie:Personnalité économique\">économiques</a></li>\n",
       " <li><a href=\"/index.php/Cat%C3%A9gorie:Personnalit%C3%A9_des_loisirs\" title=\"Catégorie:Personnalité des loisirs\">des loisirs</a></li>\n",
       " <li><a href=\"/index.php/Cat%C3%A9gorie:Personnalit%C3%A9_magique\" title=\"Catégorie:Personnalité magique\">magiques</a></li>\n",
       " <li><a href=\"/index.php/Cat%C3%A9gorie:Personnalit%C3%A9_matricielle\" title=\"Catégorie:Personnalité matricielle\">de la Matrice</a></li>\n",
       " <li><a href=\"/index.php/Cat%C3%A9gorie:Personnalit%C3%A9_noble\" title=\"Catégorie:Personnalité noble\">nobles</a></li>\n",
       " <li><a href=\"/index.php/Cat%C3%A9gorie:Personnalit%C3%A9_des_ombres\" title=\"Catégorie:Personnalité des ombres\">des Ombres</a></li>\n",
       " <li><a href=\"/index.php/Cat%C3%A9gorie:People\" title=\"Catégorie:People\">peoples</a></li>\n",
       " <li><a href=\"/index.php/Cat%C3%A9gorie:Personnalit%C3%A9_politique\" title=\"Catégorie:Personnalité politique\">politiques</a></li>\n",
       " <li><a href=\"/index.php/Cat%C3%A9gorie:Personnalit%C3%A9_religieuse\" title=\"Catégorie:Personnalité religieuse\">religieuses</a></li>\n",
       " <li><a href=\"/index.php/Cat%C3%A9gorie:Personnalit%C3%A9_scientifique\" title=\"Catégorie:Personnalité scientifique\">scientifiques</a></li>\n",
       " <li><a href=\"/index.php/Cat%C3%A9gorie:Personnalit%C3%A9_autre\" title=\"Catégorie:Personnalité autre\">autres</a></li></ul>\n",
       " </td>,\n",
       " <td style=\"border:1px solid #DDDDDD;padding:7px\" valign=\"top\" width=\"50%\"><b> <a href=\"/index.php/Zoologie\" title=\"Zoologie\">Zoologie Éveillée</a> </b>\n",
       " <ul><li><a href=\"/index.php/M%C3%A9tahumanit%C3%A9\" title=\"Métahumanité\">Métahumanité et variantes</a>\n",
       " <ul><li><a href=\"/index.php/M%C3%A9tahumanit%C3%A9#Classification_principale\" title=\"Métahumanité\">Classification principale</a></li>\n",
       " <li><a href=\"/index.php/M%C3%A9tahumanit%C3%A9#Variantes_de_Métahumains\" title=\"Métahumanité\">Variantes de Métahumains</a></li>\n",
       " <li><a href=\"/index.php/M%C3%A9tahumanit%C3%A9#Métahumains_infectés\" title=\"Métahumanité\">Métahumains infectés</a></li></ul></li>\n",
       " <li><a href=\"/index.php/Cat%C3%A9gorie:Paracr%C3%A9ature_intelligente\" title=\"Catégorie:Paracréature intelligente\">Créatures intelligentes</a></li>\n",
       " <li><a href=\"/index.php/Cat%C3%A9gorie:Paracr%C3%A9ature\" title=\"Catégorie:Paracréature\">Paracréatures</a></li></ul>\n",
       " </td>,\n",
       " <td style=\"border:1px solid #DDDDDD;padding:7px\" valign=\"top\" width=\"50%\"><b> <a href=\"/index.php/Cat%C3%A9gorie:Matrice\" title=\"Catégorie:Matrice\">Matrice</a> </b>\n",
       " <ul><li><a href=\"/index.php/Matrice\" title=\"Matrice\">Généralités</a></li>\n",
       " <li><a href=\"/index.php/Lieux_Matriciels\" title=\"Lieux Matriciels\">Lieux</a></li>\n",
       " <li><a href=\"/index.php/Cat%C3%A9gorie:Personnalit%C3%A9_matricielle\" title=\"Catégorie:Personnalité matricielle\">Personnalités</a></li>\n",
       " <li><a href=\"/index.php/Terminologie_Technique\" title=\"Terminologie Technique\">Terminologie</a></li>\n",
       " <li><a href=\"/index.php/Histoire_de_la_Matrice\" title=\"Histoire de la Matrice\">Histoire</a></li>\n",
       " <li>La <a href=\"/index.php/Matrice_au_quotidien\" title=\"Matrice au quotidien\">Matrice au quotidien</a></li>\n",
       " <li><a class=\"mw-redirect\" href=\"/index.php/Jeux_vid%C3%A9os\" title=\"Jeux vidéos\">Jeux vidéos</a></li></ul>\n",
       " </td>,\n",
       " <td style=\"border:1px solid #DDDDDD;padding:7px\" valign=\"top\" width=\"50%\"><b> <a href=\"/index.php/Cat%C3%A9gorie:Magie\" title=\"Catégorie:Magie\">Magie</a> </b>\n",
       " <ul><li><a href=\"/index.php/Magie\" title=\"Magie\">Généralités</a></li>\n",
       " <li>L'<a href=\"/index.php/%C3%89veil\" title=\"Éveil\">Éveil</a></li>\n",
       " <li><a href=\"/index.php/Cat%C3%A9gorie:Lieu_magique\" title=\"Catégorie:Lieu magique\">Lieux</a></li>\n",
       " <li><a href=\"/index.php/Cat%C3%A9gorie:Personnalit%C3%A9_magique\" title=\"Catégorie:Personnalité magique\">Personnalités</a></li>\n",
       " <li><a href=\"/index.php/Cat%C3%A9gorie:Organisation_magique\" title=\"Catégorie:Organisation magique\">Organisations</a></li>\n",
       " <li><a href=\"/index.php/Histoire_de_la_Magie\" title=\"Histoire de la Magie\">Histoire</a></li>\n",
       " <li><a href=\"/index.php/Terminologie_Magique\" title=\"Terminologie Magique\">Terminologie</a></li>\n",
       " <li><a href=\"/index.php/La_magie_vu_par_les_ordinaires\" title=\"La magie vu par les ordinaires\">La magie vu par les ordinaires</a></li>\n",
       " <li><a href=\"/index.php/Cat%C3%A9gorie:Magie\" title=\"Catégorie:Magie\">Catégorie:Magie</a></li></ul>\n",
       " </td>,\n",
       " <td style=\"border:1px solid #DDDDDD;padding:7px\" valign=\"top\" width=\"50%\"><b>Vie quotidienne</b>\n",
       " <ul><li><a href=\"/index.php/Alimentation\" title=\"Alimentation\">Alimentation</a></li>\n",
       " <li><a href=\"/index.php/Art\" title=\"Art\">Art</a></li>\n",
       " <li><a href=\"/index.php/Cat%C3%A9gorie:Culture\" title=\"Catégorie:Culture\">Culture</a></li>\n",
       " <li>La vie d'un <a href=\"/index.php/Employ%C3%A9_corpo\" title=\"Employé corpo\">Employé corpo</a></li>\n",
       " <li><a href=\"/index.php/Identit%C3%A9\" title=\"Identité\">Identité</a> (<a class=\"mw-redirect\" href=\"/index.php/SIN\" title=\"SIN\">SIN</a>)</li>\n",
       " <li><a class=\"mw-redirect\" href=\"/index.php/Loisirs\" title=\"Loisirs\">Loisirs</a></li>\n",
       " <li><a href=\"/index.php/Logement\" title=\"Logement\">Logement</a></li>\n",
       " <li>La <a href=\"/index.php/Matrice_au_quotidien\" title=\"Matrice au quotidien\">Matrice au quotidien</a></li>\n",
       " <li><a href=\"/index.php/M%C3%A9decine\" title=\"Médecine\">Médecine</a></li>\n",
       " <li><a href=\"/index.php/Publicit%C3%A9\" title=\"Publicité\">Publicité</a></li>\n",
       " <li><a href=\"/index.php/Racisme\" title=\"Racisme\">Racisme</a></li>\n",
       " <li><a href=\"/index.php/Transports\" title=\"Transports\">Transports</a></li>\n",
       " <li><a href=\"/index.php/V%C3%AAtements\" title=\"Vêtements\">Vêtements</a></li>\n",
       " <li><a href=\"/index.php/Cat%C3%A9gorie:Vie_quotidienne\" title=\"Catégorie:Vie quotidienne\">Vie quotidienne</a></li></ul>\n",
       " </td>,\n",
       " <td style=\"border:1px solid #DDDDDD;padding:7px\" valign=\"top\" width=\"50%\"><b> <a class=\"mw-redirect\" href=\"/index.php/Cat%C3%A9gorie:Sources\" title=\"Catégorie:Sources\">Sources</a> </b>\n",
       " <ul><li><a href=\"/index.php/Cat%C3%A9gorie:Source_-_Ouvrage\" title=\"Catégorie:Source - Ouvrage\">Tous les ouvrages</a>\n",
       " <ul><li><a href=\"/index.php/Source:Suppl%C3%A9ments_Shadowrun_-_Classement_th%C3%A9matique\" title=\"Source:Suppléments Shadowrun - Classement thématique\">Ouvrages Shadowrun - Classement thématique</a></li>\n",
       " <li><a href=\"/index.php/Cat%C3%A9gorie:Source_-_Ouvrage_de_SR6\" title=\"Catégorie:Source - Ouvrage de SR6\">Ouvrages Shadowrun 6</a></li>\n",
       " <li><a href=\"/index.php/Cat%C3%A9gorie:Source_-_Ouvrage_d%27Anarchy\" title=\"Catégorie:Source - Ouvrage d'Anarchy\">Ouvrages Shadowrun Anarchy</a></li>\n",
       " <li><a href=\"/index.php/Cat%C3%A9gorie:Source_-_Ouvrage_de_SR5\" title=\"Catégorie:Source - Ouvrage de SR5\">Ouvrages Shadowrun 5</a></li>\n",
       " <li><a href=\"/index.php/Cat%C3%A9gorie:Source_-_Ouvrage_de_SR4\" title=\"Catégorie:Source - Ouvrage de SR4\">Ouvrages Shadowrun 4</a></li>\n",
       " <li><a href=\"/index.php/Cat%C3%A9gorie:Source_-_Ouvrage_de_SR3\" title=\"Catégorie:Source - Ouvrage de SR3\">Ouvrages Shadowrun 3</a></li>\n",
       " <li><a href=\"/index.php/Cat%C3%A9gorie:Source_-_Ouvrage_de_SR2\" title=\"Catégorie:Source - Ouvrage de SR2\">Ouvrages Shadowrun 2</a></li>\n",
       " <li><a href=\"/index.php/Cat%C3%A9gorie:Source_-_Ouvrage_de_SR1\" title=\"Catégorie:Source - Ouvrage de SR1\">Ouvrages Shadowrun 1</a></li></ul></li>\n",
       " <li><a href=\"/index.php/Cat%C3%A9gorie:Source_-_R%C3%A8gles\" title=\"Catégorie:Source - Règles\">Règles</a></li>\n",
       " <li><a href=\"/index.php/Cat%C3%A9gorie:Source_-_Lieux\" title=\"Catégorie:Source - Lieux\">Lieux</a></li>\n",
       " <li><a href=\"/index.php/Cat%C3%A9gorie:Source_-_%C3%89v%C3%A8nement\" title=\"Catégorie:Source - Évènement\">Évènements</a></li>\n",
       " <li><a href=\"/index.php/Cat%C3%A9gorie:Source_-_Sc%C3%A9nario\" title=\"Catégorie:Source - Scénario\">Scénarios</a></li>\n",
       " <li><a href=\"/index.php/Cat%C3%A9gorie:Source_-_Vintage\" title=\"Catégorie:Source - Vintage\">Vintage</a></li>\n",
       " <li><a href=\"/index.php/Source:Table_des_romans_Shadowrun\" title=\"Source:Table des romans Shadowrun\">Romans</a></li>\n",
       " <li><a href=\"/index.php/Cat%C3%A9gorie:Source_-_Ouvrage_Shadowrun_Missions\" title=\"Catégorie:Source - Ouvrage Shadowrun Missions\">Shadowrun Missions</a></li></ul>\n",
       " </td>,\n",
       " <td style=\"border:1px solid #DDDDDD;padding:7px\" valign=\"top\" width=\"50%\"><b> <a href=\"/index.php/Ressources\" title=\"Ressources\">Ressources</a> </b>\n",
       " <ul><li><a href=\"/index.php/Cat%C3%A9gorie:Document\" title=\"Catégorie:Document\">Documents</a></li>\n",
       " <li><a href=\"/index.php/Cat%C3%A9gorie:Secteur_d%27activit%C3%A9_corporatiste\" title=\"Catégorie:Secteur d'activité corporatiste\">Industries</a></li>\n",
       " <li><a href=\"/index.php/Cat%C3%A9gorie:Carte\" title=\"Catégorie:Carte\">Cartes</a></li>\n",
       " <li><a href=\"/index.php/Glossaire\" title=\"Glossaire\">Glossaire</a></li>\n",
       " <li><a href=\"/index.php/Glossaire_Anglais-Fran%C3%A7ais\" title=\"Glossaire Anglais-Français\">Glossaire Anglais-Français</a></li></ul>\n",
       " </td>,\n",
       " <td style=\"border:1px solid #DDDDDD;padding:7px\" valign=\"top\" width=\"50%\">\n",
       " </td>]"
      ]
     },
     "execution_count": 15,
     "metadata": {},
     "output_type": "execute_result"
    }
   ],
   "source": [
    "print(type(tab))\n",
    "tab"
   ]
  },
  {
   "cell_type": "code",
   "execution_count": 17,
   "metadata": {},
   "outputs": [
    {
     "data": {
      "text/plain": [
       "[<a href=\"/index.php/Espace\" title=\"Espace\">Espace</a>]"
      ]
     },
     "execution_count": 17,
     "metadata": {},
     "output_type": "execute_result"
    }
   ],
   "source": [
    "tab2 = page_soup.find_all('a', title='Espace')\n",
    "\n",
    "tab2\n"
   ]
  },
  {
   "cell_type": "code",
   "execution_count": 7,
   "metadata": {},
   "outputs": [
    {
     "name": "stdout",
     "output_type": "stream",
     "text": [
      "[]\n",
      "[]\n",
      "[]\n",
      "[]\n",
      "[]\n",
      "[]\n",
      "[]\n",
      "[]\n",
      "[]\n",
      "[]\n",
      "[]\n",
      "[]\n",
      "[]\n"
     ]
    }
   ],
   "source": [
    "for li in tab:\n",
    "    titres.append(li.text)\n",
    "    print(li.findAll('a', herf=True))\n",
    "\n",
    "\n",
    "print(liens)\n"
   ]
  },
  {
   "cell_type": "code",
   "execution_count": 8,
   "metadata": {},
   "outputs": [
    {
     "name": "stdout",
     "output_type": "stream",
     "text": [
      "['Histoire du Sixième Monde', 'Chronologie', 'Chronologie par décennie (1990s 2000s 2010s 2020s 2030s 2040s 2050s 2060s 2070s 2080s)', 'Chronologie par année', 'Histoire thématique', \"Histoire de l'armement\", 'Histoire de la Magie', 'Histoire de la Matrice', 'Histoire de la Métahumanité', 'Histoire des corporations', 'Histoire des loisirs']\n"
     ]
    }
   ],
   "source": [
    "out = []\n",
    "buff = []\n",
    "\n",
    "for c in titres[0]:\n",
    "    if c == '\\n':\n",
    "        out.append(''.join(buff))\n",
    "        buff = []\n",
    "    else:\n",
    "        buff.append(c)\n",
    "else:\n",
    "    if buff:\n",
    "        out.append(''.join(buff))\n",
    "\n",
    "print(out)"
   ]
  }
 ],
 "metadata": {
  "interpreter": {
   "hash": "6c5d113699c8818a956f02e67dde1d1b5f63979483255f01fb8b8446f2e89d3a"
  },
  "kernelspec": {
   "display_name": "Python 3.10.4 64-bit (windows store)",
   "language": "python",
   "name": "python3"
  },
  "language_info": {
   "codemirror_mode": {
    "name": "ipython",
    "version": 3
   },
   "file_extension": ".py",
   "mimetype": "text/x-python",
   "name": "python",
   "nbconvert_exporter": "python",
   "pygments_lexer": "ipython3",
   "version": "3.10.5"
  },
  "orig_nbformat": 4
 },
 "nbformat": 4,
 "nbformat_minor": 2
}
